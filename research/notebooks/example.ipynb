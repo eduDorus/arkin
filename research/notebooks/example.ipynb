{
 "cells": [
  {
   "cell_type": "code",
   "execution_count": 1,
   "metadata": {},
   "outputs": [],
   "source": [
    "import polars as pl\n",
    "from dotenv import dotenv_values\n",
    "\n",
    "# pl.Config.set_fmt_str_lengths(1000)\n",
    "# pl.Config.set_fmt_table_cell_list_len(1000)\n",
    "pl.Config.set_tbl_rows(1000)\n",
    "uri = dotenv_values(\"../arkin/.env\")['DATABASE_URL']"
   ]
  },
  {
   "cell_type": "code",
   "execution_count": 2,
   "metadata": {},
   "outputs": [
    {
     "name": "stdout",
     "output_type": "stream",
     "text": [
      "shape: (11, 1)\n",
      "┌────────────────────┐\n",
      "│ feature_id         │\n",
      "│ ---                │\n",
      "│ str                │\n",
      "╞════════════════════╡\n",
      "│ sma_60_vwap        │\n",
      "│ vwap               │\n",
      "│ hist_vol           │\n",
      "│ spread_sma_volume  │\n",
      "│ sma_5_vwap         │\n",
      "│ cumulative_returns │\n",
      "│ spread_sma_vwap    │\n",
      "│ volume             │\n",
      "│ sma_5_volume       │\n",
      "│ sma_60_volume      │\n",
      "│ returns            │\n",
      "└────────────────────┘\n"
     ]
    }
   ],
   "source": [
    "# Fetch all the features from the insights table\n",
    "query = \"\"\"SELECT DISTINCT feature_id FROM insights WHERE instrument_id = 'f5dd7db6-89da-4c68-b62e-6f80b763bef6'\"\"\"\n",
    "df = pl.read_database_uri(query, uri, engine=\"connectorx\")\n",
    "print(df)"
   ]
  },
  {
   "cell_type": "code",
   "execution_count": 3,
   "metadata": {},
   "outputs": [
    {
     "data": {
      "text/html": [
       "<div><style>\n",
       ".dataframe > thead > tr,\n",
       ".dataframe > tbody > tr {\n",
       "  text-align: right;\n",
       "  white-space: pre-wrap;\n",
       "}\n",
       "</style>\n",
       "<small>shape: (10, 4)</small><table border=\"1\" class=\"dataframe\"><thead><tr><th>event_time</th><th>vwap</th><th>hist_vol</th><th>sma_60_vwap</th></tr><tr><td>datetime[ns, UTC]</td><td>f64</td><td>f64</td><td>f64</td></tr></thead><tbody><tr><td>2024-09-29 03:31:00 UTC</td><td>65789.721002</td><td>0.0</td><td>65789.721002</td></tr><tr><td>2024-09-29 03:32:00 UTC</td><td>65772.125229</td><td>0.000303</td><td>65780.923115</td></tr><tr><td>2024-09-29 03:33:00 UTC</td><td>65749.026696</td><td>0.000286</td><td>65770.290976</td></tr><tr><td>2024-09-29 03:34:00 UTC</td><td>65750.453704</td><td>0.000279</td><td>65765.331658</td></tr><tr><td>2024-09-29 03:35:00 UTC</td><td>65755.32467</td><td>0.000255</td><td>65763.33026</td></tr><tr><td>2024-09-29 03:36:00 UTC</td><td>65774.825567</td><td>0.00033</td><td>65765.246145</td></tr><tr><td>2024-09-29 03:37:00 UTC</td><td>65787.617991</td><td>0.000307</td><td>65768.442123</td></tr><tr><td>2024-09-29 03:38:00 UTC</td><td>65785.459727</td><td>0.000287</td><td>65770.569323</td></tr><tr><td>2024-09-29 03:39:00 UTC</td><td>65785.787167</td><td>0.000271</td><td>65772.260195</td></tr><tr><td>2024-09-29 03:40:00 UTC</td><td>65785.95771</td><td>0.000257</td><td>65773.629946</td></tr></tbody></table></div>"
      ],
      "text/plain": [
       "shape: (10, 4)\n",
       "┌─────────────────────────┬──────────────┬──────────┬──────────────┐\n",
       "│ event_time              ┆ vwap         ┆ hist_vol ┆ sma_60_vwap  │\n",
       "│ ---                     ┆ ---          ┆ ---      ┆ ---          │\n",
       "│ datetime[ns, UTC]       ┆ f64          ┆ f64      ┆ f64          │\n",
       "╞═════════════════════════╪══════════════╪══════════╪══════════════╡\n",
       "│ 2024-09-29 03:31:00 UTC ┆ 65789.721002 ┆ 0.0      ┆ 65789.721002 │\n",
       "│ 2024-09-29 03:32:00 UTC ┆ 65772.125229 ┆ 0.000303 ┆ 65780.923115 │\n",
       "│ 2024-09-29 03:33:00 UTC ┆ 65749.026696 ┆ 0.000286 ┆ 65770.290976 │\n",
       "│ 2024-09-29 03:34:00 UTC ┆ 65750.453704 ┆ 0.000279 ┆ 65765.331658 │\n",
       "│ 2024-09-29 03:35:00 UTC ┆ 65755.32467  ┆ 0.000255 ┆ 65763.33026  │\n",
       "│ 2024-09-29 03:36:00 UTC ┆ 65774.825567 ┆ 0.00033  ┆ 65765.246145 │\n",
       "│ 2024-09-29 03:37:00 UTC ┆ 65787.617991 ┆ 0.000307 ┆ 65768.442123 │\n",
       "│ 2024-09-29 03:38:00 UTC ┆ 65785.459727 ┆ 0.000287 ┆ 65770.569323 │\n",
       "│ 2024-09-29 03:39:00 UTC ┆ 65785.787167 ┆ 0.000271 ┆ 65772.260195 │\n",
       "│ 2024-09-29 03:40:00 UTC ┆ 65785.95771  ┆ 0.000257 ┆ 65773.629946 │\n",
       "└─────────────────────────┴──────────────┴──────────┴──────────────┘"
      ]
     },
     "execution_count": 3,
     "metadata": {},
     "output_type": "execute_result"
    }
   ],
   "source": [
    "# Fetching the feature data\n",
    "query = \"\"\"\n",
    "SELECT\n",
    "    event_time,\n",
    "    MAX(CASE WHEN feature_id = 'vwap' THEN value END) AS vwap,\n",
    "    MAX(CASE WHEN feature_id = 'hist_vol' THEN value END) AS hist_vol,\n",
    "    MAX(CASE WHEN feature_id = 'sma_60_vwap' THEN value END) AS sma_60_vwap\n",
    "    -- Add more features here if necessary\n",
    "FROM \n",
    "    insights\n",
    "WHERE \n",
    "    instrument_id = 'f5dd7db6-89da-4c68-b62e-6f80b763bef6'\n",
    "GROUP BY \n",
    "    event_time\n",
    "ORDER BY \n",
    "    event_time\"\"\"\n",
    "df = pl.read_database_uri(query, uri, engine=\"connectorx\")\n",
    "df.head(10)"
   ]
  },
  {
   "cell_type": "code",
   "execution_count": 4,
   "metadata": {},
   "outputs": [
    {
     "data": {
      "text/html": [
       "<div><style>\n",
       ".dataframe > thead > tr,\n",
       ".dataframe > tbody > tr {\n",
       "  text-align: right;\n",
       "  white-space: pre-wrap;\n",
       "}\n",
       "</style>\n",
       "<small>shape: (9, 5)</small><table border=\"1\" class=\"dataframe\"><thead><tr><th>statistic</th><th>event_time</th><th>vwap</th><th>hist_vol</th><th>sma_60_vwap</th></tr><tr><td>str</td><td>str</td><td>f64</td><td>f64</td><td>f64</td></tr></thead><tbody><tr><td>&quot;count&quot;</td><td>&quot;1860&quot;</td><td>1860.0</td><td>1860.0</td><td>1860.0</td></tr><tr><td>&quot;null_count&quot;</td><td>&quot;0&quot;</td><td>0.0</td><td>0.0</td><td>0.0</td></tr><tr><td>&quot;mean&quot;</td><td>&quot;2024-09-29 19:00:30+00:00&quot;</td><td>65277.567421</td><td>0.000355</td><td>65313.120788</td></tr><tr><td>&quot;std&quot;</td><td>null</td><td>625.678682</td><td>0.000173</td><td>582.315386</td></tr><tr><td>&quot;min&quot;</td><td>&quot;2024-09-29 03:31:00+00:00&quot;</td><td>63253.755345</td><td>0.0</td><td>63626.00877</td></tr><tr><td>&quot;25%&quot;</td><td>&quot;2024-09-29 11:16:00+00:00&quot;</td><td>64574.985027</td><td>0.000231</td><td>64608.901821</td></tr><tr><td>&quot;50%&quot;</td><td>&quot;2024-09-29 19:01:00+00:00&quot;</td><td>65569.309704</td><td>0.000291</td><td>65583.421785</td></tr><tr><td>&quot;75%&quot;</td><td>&quot;2024-09-30 02:45:00+00:00&quot;</td><td>65716.376318</td><td>0.000429</td><td>65723.633845</td></tr><tr><td>&quot;max&quot;</td><td>&quot;2024-09-30 10:30:00+00:00&quot;</td><td>66014.038766</td><td>0.000981</td><td>65899.681839</td></tr></tbody></table></div>"
      ],
      "text/plain": [
       "shape: (9, 5)\n",
       "┌────────────┬───────────────────────────┬──────────────┬──────────┬──────────────┐\n",
       "│ statistic  ┆ event_time                ┆ vwap         ┆ hist_vol ┆ sma_60_vwap  │\n",
       "│ ---        ┆ ---                       ┆ ---          ┆ ---      ┆ ---          │\n",
       "│ str        ┆ str                       ┆ f64          ┆ f64      ┆ f64          │\n",
       "╞════════════╪═══════════════════════════╪══════════════╪══════════╪══════════════╡\n",
       "│ count      ┆ 1860                      ┆ 1860.0       ┆ 1860.0   ┆ 1860.0       │\n",
       "│ null_count ┆ 0                         ┆ 0.0          ┆ 0.0      ┆ 0.0          │\n",
       "│ mean       ┆ 2024-09-29 19:00:30+00:00 ┆ 65277.567421 ┆ 0.000355 ┆ 65313.120788 │\n",
       "│ std        ┆ null                      ┆ 625.678682   ┆ 0.000173 ┆ 582.315386   │\n",
       "│ min        ┆ 2024-09-29 03:31:00+00:00 ┆ 63253.755345 ┆ 0.0      ┆ 63626.00877  │\n",
       "│ 25%        ┆ 2024-09-29 11:16:00+00:00 ┆ 64574.985027 ┆ 0.000231 ┆ 64608.901821 │\n",
       "│ 50%        ┆ 2024-09-29 19:01:00+00:00 ┆ 65569.309704 ┆ 0.000291 ┆ 65583.421785 │\n",
       "│ 75%        ┆ 2024-09-30 02:45:00+00:00 ┆ 65716.376318 ┆ 0.000429 ┆ 65723.633845 │\n",
       "│ max        ┆ 2024-09-30 10:30:00+00:00 ┆ 66014.038766 ┆ 0.000981 ┆ 65899.681839 │\n",
       "└────────────┴───────────────────────────┴──────────────┴──────────┴──────────────┘"
      ]
     },
     "execution_count": 4,
     "metadata": {},
     "output_type": "execute_result"
    }
   ],
   "source": [
    "df.describe()"
   ]
  },
  {
   "cell_type": "code",
   "execution_count": null,
   "metadata": {},
   "outputs": [],
   "source": []
  }
 ],
 "metadata": {
  "kernelspec": {
   "display_name": "Python 3",
   "language": "python",
   "name": "python3"
  },
  "language_info": {
   "codemirror_mode": {
    "name": "ipython",
    "version": 3
   },
   "file_extension": ".py",
   "mimetype": "text/x-python",
   "name": "python",
   "nbconvert_exporter": "python",
   "pygments_lexer": "ipython3",
   "version": "3.12.6"
  }
 },
 "nbformat": 4,
 "nbformat_minor": 2
}
