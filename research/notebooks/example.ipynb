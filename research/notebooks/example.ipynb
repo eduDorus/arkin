{
 "cells": [
  {
   "cell_type": "code",
   "execution_count": 1,
   "metadata": {},
   "outputs": [],
   "source": [
    "import polars as pl"
   ]
  },
  {
   "cell_type": "code",
   "execution_count": 2,
   "metadata": {},
   "outputs": [],
   "source": [
    "# Fetch data from clickhouse\n",
    "!curl -u aurelion_admin:test1234 -sS 'http://localhost:18123/' --data-binary \"SELECT * FROM aurelion.features FORMAT Parquet\" -o ../data/features.parquet\n"
   ]
  },
  {
   "cell_type": "code",
   "execution_count": 3,
   "metadata": {},
   "outputs": [
    {
     "data": {
      "text/html": [
       "<div><style>\n",
       ".dataframe > thead > tr,\n",
       ".dataframe > tbody > tr {\n",
       "  text-align: right;\n",
       "  white-space: pre-wrap;\n",
       "}\n",
       "</style>\n",
       "<small>shape: (9, 6)</small><table border=\"1\" class=\"dataframe\"><thead><tr><th>event_time</th><th>instrument</th><th>feature_type</th><th>feature_id</th><th>key</th><th>value</th></tr><tr><td>u32</td><td>str</td><td>str</td><td>str</td><td>str</td><td>f64</td></tr></thead><tbody><tr><td>1722196800</td><td>&quot;BTC&quot;</td><td>&quot;PCA&quot;</td><td>&quot;PCA&quot;</td><td>&quot;COMPONENT_0&quot;</td><td>12.0</td></tr><tr><td>1722196860</td><td>&quot;BTC&quot;</td><td>&quot;PCA&quot;</td><td>&quot;PCA&quot;</td><td>&quot;COMPONENT_0&quot;</td><td>13.0</td></tr><tr><td>1722196920</td><td>&quot;BTC&quot;</td><td>&quot;PCA&quot;</td><td>&quot;PCA&quot;</td><td>&quot;COMPONENT_0&quot;</td><td>10.0</td></tr><tr><td>1722196800</td><td>&quot;BTC&quot;</td><td>&quot;PCA&quot;</td><td>&quot;PCA&quot;</td><td>&quot;COMPONENT_1&quot;</td><td>32.0</td></tr><tr><td>1722196860</td><td>&quot;BTC&quot;</td><td>&quot;PCA&quot;</td><td>&quot;PCA&quot;</td><td>&quot;COMPONENT_1&quot;</td><td>30.0</td></tr><tr><td>1722196920</td><td>&quot;BTC&quot;</td><td>&quot;PCA&quot;</td><td>&quot;PCA&quot;</td><td>&quot;COMPONENT_1&quot;</td><td>29.0</td></tr><tr><td>1722196800</td><td>&quot;BTC&quot;</td><td>&quot;SMA&quot;</td><td>&quot;SMA_5&quot;</td><td>&quot;SMA_5&quot;</td><td>5.0</td></tr><tr><td>1722196860</td><td>&quot;BTC&quot;</td><td>&quot;SMA&quot;</td><td>&quot;SMA_5&quot;</td><td>&quot;SMA_5&quot;</td><td>6.0</td></tr><tr><td>1722196920</td><td>&quot;BTC&quot;</td><td>&quot;SMA&quot;</td><td>&quot;SMA_5&quot;</td><td>&quot;SMA_5&quot;</td><td>15.0</td></tr></tbody></table></div>"
      ],
      "text/plain": [
       "shape: (9, 6)\n",
       "┌────────────┬────────────┬──────────────┬────────────┬─────────────┬───────┐\n",
       "│ event_time ┆ instrument ┆ feature_type ┆ feature_id ┆ key         ┆ value │\n",
       "│ ---        ┆ ---        ┆ ---          ┆ ---        ┆ ---         ┆ ---   │\n",
       "│ u32        ┆ str        ┆ str          ┆ str        ┆ str         ┆ f64   │\n",
       "╞════════════╪════════════╪══════════════╪════════════╪═════════════╪═══════╡\n",
       "│ 1722196800 ┆ BTC        ┆ PCA          ┆ PCA        ┆ COMPONENT_0 ┆ 12.0  │\n",
       "│ 1722196860 ┆ BTC        ┆ PCA          ┆ PCA        ┆ COMPONENT_0 ┆ 13.0  │\n",
       "│ 1722196920 ┆ BTC        ┆ PCA          ┆ PCA        ┆ COMPONENT_0 ┆ 10.0  │\n",
       "│ 1722196800 ┆ BTC        ┆ PCA          ┆ PCA        ┆ COMPONENT_1 ┆ 32.0  │\n",
       "│ 1722196860 ┆ BTC        ┆ PCA          ┆ PCA        ┆ COMPONENT_1 ┆ 30.0  │\n",
       "│ 1722196920 ┆ BTC        ┆ PCA          ┆ PCA        ┆ COMPONENT_1 ┆ 29.0  │\n",
       "│ 1722196800 ┆ BTC        ┆ SMA          ┆ SMA_5      ┆ SMA_5       ┆ 5.0   │\n",
       "│ 1722196860 ┆ BTC        ┆ SMA          ┆ SMA_5      ┆ SMA_5       ┆ 6.0   │\n",
       "│ 1722196920 ┆ BTC        ┆ SMA          ┆ SMA_5      ┆ SMA_5       ┆ 15.0  │\n",
       "└────────────┴────────────┴──────────────┴────────────┴─────────────┴───────┘"
      ]
     },
     "execution_count": 3,
     "metadata": {},
     "output_type": "execute_result"
    }
   ],
   "source": [
    "# Load fetched data\n",
    "df = pl.read_parquet(\"../data/features.parquet\", use_pyarrow=True)\n",
    "df"
   ]
  },
  {
   "cell_type": "code",
   "execution_count": null,
   "metadata": {},
   "outputs": [],
   "source": []
  }
 ],
 "metadata": {
  "kernelspec": {
   "display_name": "Python 3",
   "language": "python",
   "name": "python3"
  },
  "language_info": {
   "codemirror_mode": {
    "name": "ipython",
    "version": 3
   },
   "file_extension": ".py",
   "mimetype": "text/x-python",
   "name": "python",
   "nbconvert_exporter": "python",
   "pygments_lexer": "ipython3",
   "version": "3.12.4"
  }
 },
 "nbformat": 4,
 "nbformat_minor": 2
}
