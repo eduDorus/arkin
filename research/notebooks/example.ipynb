{
 "cells": [
  {
   "cell_type": "code",
   "execution_count": 1,
   "metadata": {},
   "outputs": [],
   "source": [
    "import polars as pl\n",
    "from dotenv import dotenv_values\n",
    "\n",
    "uri = dotenv_values(\"../arkin/.env\")['DATABASE_URL']"
   ]
  },
  {
   "cell_type": "code",
   "execution_count": 2,
   "metadata": {},
   "outputs": [],
   "source": [
    "query = \"SELECT * FROM stocks_real_time\"\n",
    "df = pl.read_database_uri(query=query, uri=uri, engine=\"connectorx\")"
   ]
  },
  {
   "cell_type": "code",
   "execution_count": 3,
   "metadata": {},
   "outputs": [
    {
     "data": {
      "text/html": [
       "<div><style>\n",
       ".dataframe > thead > tr,\n",
       ".dataframe > tbody > tr {\n",
       "  text-align: right;\n",
       "  white-space: pre-wrap;\n",
       "}\n",
       "</style>\n",
       "<small>shape: (1, 4)</small><table border=\"1\" class=\"dataframe\"><thead><tr><th>time</th><th>symbol</th><th>price</th><th>day_volume</th></tr><tr><td>datetime[ns, UTC]</td><td>str</td><td>f64</td><td>i32</td></tr></thead><tbody><tr><td>2024-07-31 13:32:42.522 UTC</td><td>&quot;btcusdt&quot;</td><td>1293.23</td><td>123034</td></tr></tbody></table></div>"
      ],
      "text/plain": [
       "shape: (1, 4)\n",
       "┌─────────────────────────────┬─────────┬─────────┬────────────┐\n",
       "│ time                        ┆ symbol  ┆ price   ┆ day_volume │\n",
       "│ ---                         ┆ ---     ┆ ---     ┆ ---        │\n",
       "│ datetime[ns, UTC]           ┆ str     ┆ f64     ┆ i32        │\n",
       "╞═════════════════════════════╪═════════╪═════════╪════════════╡\n",
       "│ 2024-07-31 13:32:42.522 UTC ┆ btcusdt ┆ 1293.23 ┆ 123034     │\n",
       "└─────────────────────────────┴─────────┴─────────┴────────────┘"
      ]
     },
     "execution_count": 3,
     "metadata": {},
     "output_type": "execute_result"
    }
   ],
   "source": [
    "df"
   ]
  }
 ],
 "metadata": {
  "kernelspec": {
   "display_name": "Python 3",
   "language": "python",
   "name": "python3"
  },
  "language_info": {
   "codemirror_mode": {
    "name": "ipython",
    "version": 3
   },
   "file_extension": ".py",
   "mimetype": "text/x-python",
   "name": "python",
   "nbconvert_exporter": "python",
   "pygments_lexer": "ipython3",
   "version": "3.12.4"
  }
 },
 "nbformat": 4,
 "nbformat_minor": 2
}
